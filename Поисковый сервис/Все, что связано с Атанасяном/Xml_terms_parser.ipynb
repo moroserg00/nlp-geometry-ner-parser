{
 "cells": [
  {
   "cell_type": "code",
   "execution_count": null,
   "metadata": {},
   "outputs": [],
   "source": [
    "import bs4, os, sqlite3\n",
    "with open('notepad.xml', 'r', encoding= 'utf-8') as file:\n",
    "    xml = file.read()\n",
    "\n",
    "soup = bs4.BeautifulSoup(xml, 'lxml-xml')\n",
    "tags = soup.find_all('definition')\n",
    "\n",
    "path_to_db = '../definitions.db'\n",
    "conn = sqlite3.connect(path_to_db)\n",
    "cur = conn.cursor()\n",
    "\n",
    "for tag_ in tags:\n",
    "    term = tag_.attrs['name']\n",
    "    definiton = tag_.text\n",
    "    print(term, definiton)\n",
    "    # print()\n",
    "\n",
    "    termin = (None, term, None,\n",
    "              definiton, 'Атанасян \"Геометрия\"', 0)\n",
    "\n",
    "    cur.execute(\"INSERT INTO terms VALUES(?, ?, ?, ?, ?, ?);\", termin) # : Таким способом получается избежать SQL-инъекций\n",
    "    conn.commit()\n"
   ]
  }
 ],
 "metadata": {
  "kernelspec": {
   "display_name": "Python 3",
   "language": "python",
   "name": "python3"
  },
  "language_info": {
   "name": "python",
   "version": "3.11.0"
  },
  "orig_nbformat": 4
 },
 "nbformat": 4,
 "nbformat_minor": 2
}
