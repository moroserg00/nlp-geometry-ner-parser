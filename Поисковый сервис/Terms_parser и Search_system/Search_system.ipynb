{
 "cells": [
  {
   "cell_type": "code",
   "execution_count": 1,
   "metadata": {},
   "outputs": [],
   "source": [
    "import sqlite3\n",
    "conn = sqlite3.connect('definitions.db')\n",
    "cur = conn.cursor()"
   ]
  },
  {
   "cell_type": "code",
   "execution_count": 2,
   "metadata": {},
   "outputs": [],
   "source": [
    "import tkinter as tk\n",
    "class SearchSystem(tk.Tk):\n",
    "    def __init__(self):\n",
    "        super().__init__()\n",
    "        \n",
    "        self.result = [] #\n",
    "        self.definition_id = 0\n",
    "        \n",
    "        self.term_text_frame = tk.LabelFrame(self, text = 'Введите термин')\n",
    "        self.term_text = tk.Text(self.term_text_frame, width = 40, height = 2)\n",
    "        self.term_text.pack()\n",
    "        self.term_text_frame.pack(side = tk.TOP)\n",
    "\n",
    "        self.definition_frame = tk.LabelFrame(self, text = 'Источник определения')\n",
    "        self.definition = tk.Message(self.definition_frame, width = 600)\n",
    "        self.definition.config(text = 'Текст определения')\n",
    "        self.definition.pack()\n",
    "        self.definition_frame.pack(side = tk.TOP)\n",
    "\n",
    "        tk.Button(self, text = '-->', command = self.next).pack()\n",
    "\n",
    "        self.label = tk.Label(self, text = '')\n",
    "        self.label.pack()\n",
    "\n",
    "        self.find_frame = tk.Frame(self)\n",
    "        self.find_btn = tk.Button(self.find_frame, text = 'Найти определение', width = 15, height = 2, command = self.save_term)\n",
    "        self.find_btn.pack(side = tk.RIGHT)\n",
    "        self.find_frame.pack()\n",
    "\n",
    "    def next(self):\n",
    "        if self.result != []:\n",
    "            self.definition_id += 1\n",
    "            if self.definition_id > len(self.result):\n",
    "                self.definition_id -= len(self.result)\n",
    "            self.definition.config(text = self.result[self.definition_id - 1][0])\n",
    "            self.definition_frame.config(text = self.result[self.definition_id - 1][1])\n",
    "            self.label.config(text = str(self.definition_id) + ' из ' + str(len(self.result)))\n",
    "\n",
    "    def save_term(self):\n",
    "        term_query = self.term_text.get('1.0', tk.END)[:-1]\n",
    "        if term_query != '':\n",
    "            sql_query = \"SELECT definition, document FROM terms WHERE firstterm = ? OR secondterm = ?;\"\n",
    "            res = cur.execute(sql_query, (term_query, term_query))\n",
    "            \n",
    "            self.result = [(definition, document) for definition, document in res.fetchall()]\n",
    "\n",
    "            if self.result == []:\n",
    "                self.definition.config(text = 'Такого термина нет в базе данных')\n",
    "                self.label.config(text = '')\n",
    "                self.definition_frame.config(text = 'Нет такого источника')\n",
    "                self.find_btn.config(background = 'white')\n",
    "            else:\n",
    "                self.definition_id = 1\n",
    "                self.label.config(text = str(self.definition_id) + ' из ' + str(len(self.result)))\n",
    "\n",
    "                self.definition.config(text = self.result[self.definition_id - 1][0])\n",
    "                self.definition_frame.config(text = self.result[self.definition_id - 1][1])\n",
    "\n",
    "                self.find_btn.config(background = 'green')\n",
    "            \n",
    "    \n",
    "\n",
    "application = SearchSystem()\n",
    "application.title('Поисковая система')\n",
    "application.geometry('880x650')\n",
    "application.mainloop()"
   ]
  },
  {
   "cell_type": "code",
   "execution_count": null,
   "metadata": {},
   "outputs": [],
   "source": []
  }
 ],
 "metadata": {
  "kernelspec": {
   "display_name": "Python 3",
   "language": "python",
   "name": "python3"
  },
  "language_info": {
   "codemirror_mode": {
    "name": "ipython",
    "version": 3
   },
   "file_extension": ".py",
   "mimetype": "text/x-python",
   "name": "python",
   "nbconvert_exporter": "python",
   "pygments_lexer": "ipython3",
   "version": "3.11.0"
  },
  "orig_nbformat": 4
 },
 "nbformat": 4,
 "nbformat_minor": 2
}
